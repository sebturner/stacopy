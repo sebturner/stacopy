{
 "cells": [
  {
   "cell_type": "markdown",
   "metadata": {},
   "source": [
    "# Using stacopy\n",
    "\n",
    "`stacopy` guides the use of the $k$-means unsupervised clustering method (\"`k-means`\"; MacQueen 1967; Lloyd 1982) for samples in which the true clustering structure is not known. `k-means`, which partitions samples into $k$ compact, spherical clusters, uses randomised initialisations to overcome its local dependency. Different initialisations lead to different clustering outcomes, and clustering outcomes may be more or less varied at different values of $k$. Therefore, one needs to be able to not only a) identify the best clustering outcome at a given value of $k$, but b) identify the best value of $k$ for modelling the clustering structure of a sample. `stacopy` does both, identifying the most compact clustering outcomes and the most stables values of $k$.\n",
    "\n",
    "Necessary imports and setup:"
   ]
  },
  {
   "cell_type": "code",
   "execution_count": 1,
   "metadata": {},
   "outputs": [],
   "source": [
    "import numpy as N\n",
    "import matplotlib as M\n",
    "M.use('Agg')\n",
    "import matplotlib.pyplot as MP\n",
    "import stacopy as S\n",
    "\n",
    "if __name__ == '__main__': # required to run parallel code in parallel; any code using stacopy functions should begin with this!\n",
    "\n",
    "    MP.rcParams.update({'figure.figsize':[4,2], 'figure.dpi': 300, 'font.family': 'Times New Roman', 'font.size': 10, 'text.usetex': True, 'figure.autolayout': True})"
   ]
  },
  {
   "cell_type": "markdown",
   "metadata": {},
   "source": [
    "We'll cluster a simple, simulated sample to begin with. This will demonstrate the use of stability for selecting good values of $k$. The simulation consists of 5000 points distributed equally over five 2D Gaussian functions ($\\sigma = 0.3$), centred at the vertices of a unit regular pentagon. It consists of five true clusters, and is shown in the figure below:\n",
    "\n",
    "<img src='pics/sim_black.png' style=\"width:40%\">\n",
    "\n",
    "We'll load the simulation, and run `k-means` 25 times each at four different values of $k$."
   ]
  },
  {
   "cell_type": "code",
   "execution_count": 2,
   "metadata": {},
   "outputs": [
    {
     "name": "stdout",
     "output_type": "stream",
     "text": [
      "Clustering...\n",
      "k = 3\n",
      "k = 4\n",
      "k = 5\n",
      "k = 6\n",
      "k = 7\n",
      "Done.\n",
      "Measuring stabilities...\n",
      "k = 3\n",
      "k = 4\n",
      "k = 5\n",
      "k = 6\n",
      "k = 7\n",
      "Done.\n"
     ]
    }
   ],
   "source": [
    "    # input data must be clustering features only; no IDs, flags, etc.\n",
    "    # hence, we chop off the IDs in the third column of sim.txt for clustering\n",
    "    data = N.genfromtxt('sim.txt', delimiter = ',')[:,:2]\n",
    "\n",
    "    k = range(3,8)\n",
    "    init = 25\n",
    "\n",
    "    staco = S.STACO(data, k = k, init = init)"
   ]
  },
  {
   "cell_type": "markdown",
   "metadata": {},
   "source": [
    "The function `STACO()` returns a (`init*len(k),3`)-shape array of stabilities (median $V$), compactnesses ($\\phi$), and values of $k$ of every clustering outcome we generate. For now, we're mostly interested in the ability of `STACO()` to use stability to point us to the right value of $k$ for describing the simulation, so we plot a stability map:"
   ]
  },
  {
   "cell_type": "code",
   "execution_count": 3,
   "metadata": {
    "scrolled": false
   },
   "outputs": [],
   "source": [
    "    fig, ax = MP.subplots() # plotting the stability map\n",
    "    \n",
    "    for i in k:\n",
    "        cvs = staco[staco[:,2] == i,0].reshape(-1,1)\n",
    "\n",
    "        hist, bins = N.histogram(cvs, bins = N.arange(0.0,1.01,0.01))\n",
    "        hist = (hist.astype(float) / float(max(hist))) * 0.8\n",
    "    \n",
    "        ax.plot([0.0, 1.01], [i, i], c = 'k', ls = '-', lw = 1.5, zorder = 3) # baselines\n",
    "        ax.bar(bins[1:] - 0.005, hist, width = 0.01, bottom = i, color = 'k')\n",
    "        ax.plot([N.mean(cvs),N.mean(cvs)],[i, i + 1], 'r-')\n",
    "    \n",
    "    ax.set(yticks = k, xlim = (0.5, 1.01), ylim = (min(k) - 1, max(k) + 1),\n",
    "           xlabel = 'Median $V$', ylabel = '$k$')\n",
    "    fig.savefig('pics/staco_sim.png')"
   ]
  },
  {
   "cell_type": "markdown",
   "metadata": {},
   "source": [
    "The stability map for the simulation looks like this.\n",
    "\n",
    "<img src='pics/staco_sim.png' style=\"width:60%\">\n",
    "\n",
    "The key element in interpreting this plot is the gap in the distributions of the stabilities of clustering outcomes. The distribution of stabilities at $k = 5$ shows that `k-means` has converged to the same stable clustering outcome following all 25 initialisations. Distributions of stabilities at other values of $k$, meanwhile, show that there is not objectively correct way to divide the five true clusters into an alternative number of `k-means` clusters. Hence, we get a clear indication of the true clustering structure of the simulation. "
   ]
  },
  {
   "cell_type": "markdown",
   "metadata": {},
   "source": [
    "We'll now have a go at a more complicated sample. We'll cluster the five-dimensional galaxy sample used in Turner et al. (2018). We can't visualise this sample, so we have to trust the stability map to tell us what value(s) of $k$ are good. We'll run `k-means` 100 times each at 14 different values of $k$. We'll also make sure to save the labels so we can retrieve them again later."
   ]
  },
  {
   "cell_type": "code",
   "execution_count": 5,
   "metadata": {},
   "outputs": [
    {
     "name": "stdout",
     "output_type": "stream",
     "text": [
      "Clustering...\n",
      "k = 2\n",
      "k = 3\n",
      "k = 4\n",
      "k = 5\n",
      "k = 6\n",
      "k = 7\n",
      "k = 8\n",
      "k = 9\n",
      "k = 10\n",
      "k = 11\n",
      "k = 12\n",
      "k = 13\n",
      "k = 14\n",
      "k = 15\n",
      "Done.\n",
      "Measuring stabilities...\n",
      "k = 2\n",
      "k = 3\n",
      "k = 4\n",
      "k = 5\n",
      "k = 6\n",
      "k = 7\n",
      "k = 8\n",
      "k = 9\n",
      "k = 10\n",
      "k = 11\n",
      "k = 12\n",
      "k = 13\n",
      "k = 14\n",
      "k = 15\n",
      "Done.\n"
     ]
    }
   ],
   "source": [
    "    # first column in gal.txt is GAMA survey IDs\n",
    "    # hence we chop them off for clustering\n",
    "    # note that the data in gal.txt is Z-scored\n",
    "    data = N.genfromtxt('gal.txt', delimiter = ',')[:,1:] \n",
    "    \n",
    "    k = range(2,16) # values of k\n",
    "    init = 100 # number of k-means initialisations at each k\n",
    "\n",
    "    staco = S.STACO(data, k, init, save_lbls = True) # saving labels for later\n",
    "\n",
    "    N.savetxt('staco_gal.txt', staco, delimiter = ',') # saving staco info for later"
   ]
  },
  {
   "cell_type": "markdown",
   "metadata": {},
   "source": [
    "We can now plot the stability map for this galaxy sample:"
   ]
  },
  {
   "cell_type": "code",
   "execution_count": 6,
   "metadata": {},
   "outputs": [],
   "source": [
    "    MP.rcParams.update({'figure.figsize':[4,4]})\n",
    "    \n",
    "    fig, ax = MP.subplots() # plotting the stability map\n",
    "    \n",
    "    for i in k:\n",
    "        cvs = staco[staco[:,2] == i,0].reshape(-1,1)\n",
    "\n",
    "        hist, bins = N.histogram(cvs, bins = N.arange(0.0,1.01,0.01))\n",
    "        hist = (hist.astype(float) / float(max(hist))) * 0.8\n",
    "    \n",
    "        ax.plot([0.0, 1.01], [i, i], c = 'k', ls = '-', lw = 1.5, zorder = 3) # baselines\n",
    "        ax.bar(bins[1:] - 0.005, hist, width = 0.01, bottom = i, color = 'k')\n",
    "        ax.plot([N.mean(cvs),N.mean(cvs)],[i, i + 1], 'r-')\n",
    "    \n",
    "    ax.set(yticks = k, xlim = (0.5, 1.01), ylim = (min(k) - 1, max(k) + 1),\n",
    "           xlabel = 'Median $V$', ylabel = '$k$')\n",
    "    fig.savefig('pics/staco_gal.png')"
   ]
  },
  {
   "cell_type": "markdown",
   "metadata": {},
   "source": [
    "Which looks like this.\n",
    "\n",
    "<img src='pics/staco_gal.png' style=\"width:60%\">\n",
    "\n",
    "Here we find stable clustering at $k = 2,3,5,$ and $6$. There are multiple stable values of $k$ because the sample is asymmetrical in the five-dimensional feature space in which we cluster it, and because it has a hierarchical clustering structure. See Turner et al. (2018) for more info. "
   ]
  },
  {
   "cell_type": "markdown",
   "metadata": {},
   "source": [
    "Finally, we'll look at grabbing cluster labels, which can be used to analyse clusters. We'll go with $k = 6$, which we endorse in Turner et al. (2018) as being the best value of $k$ for describing the galaxy sample in terms of both capturing the broad aspects of the bimodality and making finer distinctions between different sub-types of galaxies at the same time. The best solution of the 100 we generated at $k = 6$ is the most compact (i.e. that with the lowest $\\phi$). Hence:"
   ]
  },
  {
   "cell_type": "code",
   "execution_count": 7,
   "metadata": {},
   "outputs": [],
   "source": [
    "lbls = N.genfromtxt('lbls_k6.txt', delimiter = ',') # loading k = 6 labels\n",
    "\n",
    "ksix = staco[staco[:,2] == 6,:] # grabbing all k = 6 solutions\n",
    "\n",
    "best = N.where(ksix[:,2] == min(ksix[:,2]))[0][0] # finding lowest compactnesses\n",
    "clst = lbls[:,best] # selecting solution with lowest compactness"
   ]
  },
  {
   "cell_type": "markdown",
   "metadata": {},
   "source": [
    "Note that the most compact solution might emerge several times, which is why we select the row containing the first instance (i.e. `...)[0][0]`) that satisfies this condition.\n",
    "\n",
    "The final labels in `clst` are in the same order as the galaxies in the input table `gal.txt`, so it's straightforward to map the labels back onto the input galaxies. From there, you can interpret and visualise clusters by making plots like the one shown below, in which we show clusters from four different values of $k$ as contours in the colour-mass plane (two of the clustering features, using the non-Z-scored data). \n",
    "\n",
    "<img src='pics/colmass.png' style=\"width:100%\">"
   ]
  }
 ],
 "metadata": {
  "kernelspec": {
   "display_name": "Python 3",
   "language": "python",
   "name": "python3"
  },
  "language_info": {
   "codemirror_mode": {
    "name": "ipython",
    "version": 3
   },
   "file_extension": ".py",
   "mimetype": "text/x-python",
   "name": "python",
   "nbconvert_exporter": "python",
   "pygments_lexer": "ipython3",
   "version": "3.6.4"
  }
 },
 "nbformat": 4,
 "nbformat_minor": 2
}
